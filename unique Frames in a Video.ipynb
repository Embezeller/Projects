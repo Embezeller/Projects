{
 "cells": [
  {
   "cell_type": "code",
   "execution_count": null,
   "metadata": {},
   "outputs": [],
   "source": [
    "# importing packages\n",
    "import cv2\n",
    "from skimage.measure import compare_ssim\n",
    "import argparse\n",
    "import imutils\n",
    "import os\n",
    "from sklearn.preprocessing import MinMaxScaler\n",
    "import numpy as np"
   ]
  },
  {
   "cell_type": "code",
   "execution_count": null,
   "metadata": {},
   "outputs": [],
   "source": [
    "# setting file directory\n",
    "os.chdir(r'C:\\Users\\gunal\\Desktop\\buffalo automation')"
   ]
  },
  {
   "cell_type": "code",
   "execution_count": null,
   "metadata": {},
   "outputs": [],
   "source": [
    "#function to get frames from video\n",
    "def getframe(video,parse):\n",
    "    \n",
    "    readvid = cv2.VideoCapture(video)\n",
    "    \n",
    "    # fps of the video\n",
    "    fps = int(readvid.get(cv2.CAP_PROP_FPS))\n",
    "    \n",
    "    # Used as counter variable \n",
    "    count = 0\n",
    "\n",
    "    # checks whether frames were extracted \n",
    "    success = 1\n",
    "\n",
    "    imagelist = []\n",
    "\n",
    "    while success: \n",
    "\n",
    "        # vidObj object calls read \n",
    "        # function extract frames \n",
    "        success, image = readvid.read() \n",
    "\n",
    "        # Saves the frames with frame-count\n",
    "        if count % (fps*parse) == 0:\n",
    "            imagelist.append(image)\n",
    "\n",
    "\n",
    "        count += 1\n",
    "    \n",
    "    # final frames for analysis\n",
    "    return imagelist\n",
    "    "
   ]
  },
  {
   "cell_type": "code",
   "execution_count": null,
   "metadata": {},
   "outputs": [],
   "source": [
    "# find the unique frame with the given similarity\n",
    "def uniqueframes(frames,similarity):\n",
    "    \n",
    "    unique_frame = frames[0]\n",
    "    \n",
    "    gray1 = cv2.cvtColor(frames[0], cv2.COLOR_BGR2GRAY)\n",
    "    \n",
    "    for i in range(0,len(frames)-1):\n",
    "        gray2 = cv2.cvtColor(frames[i+1], cv2.COLOR_BGR2GRAY)\n",
    "        \n",
    "        # score gives a value in range (-1,1) with 1 being perfect match\n",
    "        (score, diff) = compare_ssim(gray1, gray2, full=True)\n",
    "        diff = (diff * 255).astype(\"uint8\")\n",
    "        \n",
    "        if score <= similarity:\n",
    "            unique_frame.append(frames[i+1])\n",
    "            gray1 = cv2.cvtColor(frames[i+1], cv2.COLOR_BGR2GRAY)\n",
    "    \n",
    "    # return the final unique frames\n",
    "    return unique_frame\n",
    "            "
   ]
  },
  {
   "cell_type": "code",
   "execution_count": null,
   "metadata": {},
   "outputs": [],
   "source": [
    "# save images in the exit path\n",
    "def saveimages(path,images):\n",
    "    \n",
    "    for i in range(0,len(images)):\n",
    "        \n",
    "        cv2.imwrite( path + \"\\\\frame%d.jpg\" % i, images[i])"
   ]
  },
  {
   "cell_type": "code",
   "execution_count": null,
   "metadata": {},
   "outputs": [],
   "source": [
    "if __name__ == \"__main__\":\n",
    "    \n",
    "    \n",
    "    while True:\n",
    "        \n",
    "        # getting the file name\n",
    "        print('Enter \\'exit\\' to stop program else enter file name to continue')\n",
    "        path = input('file name: ')\n",
    "        \n",
    "        if path.lower == 'exit':\n",
    "            break\n",
    "\n",
    "        # getting frame intervals for parsing \n",
    "        video_parse = int(input('video parse time to get frames: '))\n",
    "\n",
    "        # getting max level of similarity between frames\n",
    "        similarity = int(input('% of similarity from 0 - 100%: '))\n",
    "\n",
    "        # returns the parsed frames from the total video file\n",
    "        images = getframe(path,video_parse)\n",
    "\n",
    "\n",
    "        # genearting list from 0-100 for minmax scalar\n",
    "        percent = np.arange(0,101,dtype='int')\n",
    "\n",
    "        # scaling 0-100 range to match the score of image difference scale (-1,1)\n",
    "        a = np.array(similarity)\n",
    "        minmax = MinMaxScaler(feature_range=(-1,1))\n",
    "        minmax.fit(percent.reshape(-1,1))\n",
    "        similarity = minmax.transform(a.reshape(-1, 1))[0])\n",
    "\n",
    "        # returns all the unique frames\n",
    "        unique_frame = uniqueframes(frames=images, similarity=similarity)\n",
    "\n",
    "        # count of unique franes\n",
    "        print('total unique frames: ', len(unique_frame))\n",
    "\n",
    "\n",
    "        # save the images\n",
    "        pathout = input('exit path for saving the unique images: ')\n",
    "        saveimages(pathout,unique_frame)\n"
   ]
  },
  {
   "cell_type": "code",
   "execution_count": null,
   "metadata": {},
   "outputs": [],
   "source": []
  },
  {
   "cell_type": "code",
   "execution_count": null,
   "metadata": {},
   "outputs": [],
   "source": []
  },
  {
   "cell_type": "code",
   "execution_count": null,
   "metadata": {},
   "outputs": [],
   "source": []
  },
  {
   "cell_type": "code",
   "execution_count": null,
   "metadata": {},
   "outputs": [],
   "source": []
  }
 ],
 "metadata": {
  "kernelspec": {
   "display_name": "Python 3",
   "language": "python",
   "name": "python3"
  },
  "language_info": {
   "codemirror_mode": {
    "name": "ipython",
    "version": 3
   },
   "file_extension": ".py",
   "mimetype": "text/x-python",
   "name": "python",
   "nbconvert_exporter": "python",
   "pygments_lexer": "ipython3",
   "version": "3.7.3"
  }
 },
 "nbformat": 4,
 "nbformat_minor": 2
}
